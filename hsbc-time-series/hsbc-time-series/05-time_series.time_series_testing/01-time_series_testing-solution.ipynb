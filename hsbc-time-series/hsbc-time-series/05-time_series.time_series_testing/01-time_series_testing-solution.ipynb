{
 "cells": [
  {
   "cell_type": "markdown",
   "metadata": {},
   "source": [
    "# Testing for forecasting models\n",
    "\n",
    "Testing a standard prediction model can be done using cross-validation. Usually we don't need to worry about ordering over observations so we can just go ahead and divide the data into K folds. However, we time-series data we need to take care to account for the chronological ordering of observations!\n",
    "\n",
    "We can account for the chronological ordering by making sure that we only use past observations when making predictions (this also makes it realistic in a production setting!).\n",
    "\n",
    "The remainder of this notebook will load some data and then show you how you can test a forecasting model!"
   ]
  },
  {
   "cell_type": "code",
   "execution_count": 1,
   "metadata": {},
   "outputs": [],
   "source": [
    "import re\n",
    "import pandas as pd\n",
    "import numpy as np\n",
    "import matplotlib.pyplot as plt\n",
    "%matplotlib inline\n",
    "\n",
    "from statsmodels.api import tsa\n",
    "from dateutil.parser import parse\n",
    "\n",
    "from sklearn.linear_model import LinearRegression\n",
    "from sklearn.metrics import mean_absolute_error\n",
    "\n",
    "def parse_quarter(string):\n",
    "    \"\"\"\n",
    "    Converts a string from the format YYYYQN in datetime object at the end of quarter N.\n",
    "    \"\"\"\n",
    "    \n",
    "    # Note: you could also just retrieve the first four elements of the string\n",
    "    # and the last one... Regex is fun but often not necessary\n",
    "    year, qn = re.search(r'^(20[0-9][0-9])(Q[1-4])$', string).group(1, 2)\n",
    "    \n",
    "    # year and qn will be strings, pd.datetime expects integers.\n",
    "    year = int(year)\n",
    "    \n",
    "    date = None\n",
    "    \n",
    "    if qn=='Q1':\n",
    "        date = pd.datetime(year, 3, 31)\n",
    "    elif qn=='Q2':\n",
    "        date = pd.datetime(year, 6, 30)\n",
    "    elif qn=='Q3':\n",
    "        date = pd.datetime(year, 9, 20)\n",
    "    else:\n",
    "        date = pd.datetime(year, 12, 31)\n",
    "        \n",
    "    return date\n",
    "\n",
    "\n",
    "alcohol_consumption = pd.read_csv('data/NZAlcoholConsumption.csv', \n",
    "                                  parse_dates=['DATE'], \n",
    "                                  date_parser=parse_quarter,\n",
    "                                  index_col='DATE')\n",
    "alcohol_consumption.sort_index(inplace=True)"
   ]
  },
  {
   "cell_type": "code",
   "execution_count": 8,
   "metadata": {},
   "outputs": [
    {
     "data": {
      "text/plain": [
       "DATE\n",
       "2001-03-31   -0.199\n",
       "2001-06-30   -0.054\n",
       "2001-09-20    0.190\n",
       "2001-12-31   -0.069\n",
       "2002-03-31    0.369\n",
       "2002-06-30    0.057\n",
       "2002-09-20    0.231\n",
       "2002-12-31    0.163\n",
       "2003-03-31    0.035\n",
       "2003-06-30    0.115\n",
       "2003-09-20   -0.124\n",
       "2003-12-31    0.030\n",
       "2004-03-31    0.156\n",
       "2004-06-30    0.124\n",
       "2004-09-20    0.177\n",
       "2004-12-31    0.042\n",
       "2005-03-31    0.130\n",
       "2005-06-30    0.171\n",
       "2005-09-20    0.161\n",
       "2005-12-31    0.125\n",
       "2006-03-31    0.164\n",
       "2006-06-30   -0.029\n",
       "2006-09-20    0.127\n",
       "2006-12-31    0.231\n",
       "2007-03-31    0.149\n",
       "2007-06-30    0.200\n",
       "2007-09-20   -0.082\n",
       "2007-12-31   -0.443\n",
       "2008-03-31   -0.283\n",
       "2008-06-30   -0.169\n",
       "2008-09-20   -0.140\n",
       "2008-12-31    0.809\n",
       "2009-03-31    0.150\n",
       "2009-06-30    0.199\n",
       "2009-09-20    0.011\n",
       "2009-12-31   -0.249\n",
       "2010-03-31    0.342\n",
       "2010-06-30   -0.030\n",
       "2010-09-20    0.109\n",
       "2010-12-31    0.387\n",
       "2011-03-31   -0.253\n",
       "2011-06-30    0.039\n",
       "2011-09-20    0.200\n",
       "2011-12-31   -0.513\n",
       "2012-03-31    0.187\n",
       "2012-06-30    0.135\n",
       "2012-09-20   -0.057\n",
       "Name: TotalWine, dtype: float64"
      ]
     },
     "execution_count": 8,
     "metadata": {},
     "output_type": "execute_result"
    }
   ],
   "source": [
    "wine = alcohol_consumption.TotalWine\n",
    "wine_diff = wine.diff(4).dropna()\n",
    "\n",
    "time_series = wine_diff\n",
    "time_series"
   ]
  },
  {
   "cell_type": "markdown",
   "metadata": {},
   "source": [
    "## Forecasting\n",
    "\n",
    "Until now we have tuned the model to *fit* the time series. \n",
    "This makes us able to find a description of the data, but doesn't give forecast.\n",
    "\n",
    "**Note**: forecasting with time series data is **tricky** and usually basic methods do not really provide very good results (especially on realistic data). ARMA models are nice because they are simple but do not expect fantastic performances. (On the other hand, predicting the future is hard! -- who would have thought).\n",
    "\n",
    "* Separate the time series into a training set and a test set formed of the last 8 points. \n",
    "* Fit an AR model on the training data and try to find the optimal lag using the `BIC` criterion\n",
    "* fit the model, predict and show the prediction on the original time series. Did it do a good job? \n",
    "* compute the MAE"
   ]
  },
  {
   "cell_type": "code",
   "execution_count": 3,
   "metadata": {},
   "outputs": [
    {
     "name": "stderr",
     "output_type": "stream",
     "text": [
      "/Users/sujay/anaconda3/envs/cspark/lib/python3.6/site-packages/statsmodels/tsa/base/tsa_model.py:225: ValueWarning: A date index has been provided, but it has no associated frequency information and so will be ignored when e.g. forecasting.\n",
      "  ' ignored when e.g. forecasting.', ValueWarning)\n"
     ]
    },
    {
     "name": "stdout",
     "output_type": "stream",
     "text": [
      "Out of sample MAE = 0.273\n"
     ]
    },
    {
     "name": "stderr",
     "output_type": "stream",
     "text": [
      "/Users/sujay/anaconda3/envs/cspark/lib/python3.6/site-packages/statsmodels/tsa/base/tsa_model.py:531: ValueWarning: No supported index is available. Prediction results will be given with an integer index beginning at `start`.\n",
      "  ValueWarning)\n"
     ]
    },
    {
     "data": {
      "image/png": "[encoded data removed]",
      "text/plain": [
       "<Figure size 576x432 with 1 Axes>"
      ]
     },
     "metadata": {
      "needs_background": "light"
     },
     "output_type": "display_data"
    }
   ],
   "source": [
    "# divide data into training and testing:\n",
    "train = time_series[:-8]\n",
    "test = time_series[-8:]\n",
    "\n",
    "# fit our AR model using the tsa module! \n",
    "ar = tsa.AR(train)\n",
    "\n",
    "# choose the optimal lag using BIC (this is a model selection criterion, dont worry if you dont know what it is :))\n",
    "optlag = ar.select_order(10, ic='bic', method='mle')\n",
    "\n",
    "# now we fit our model with the chosen optimal lag:\n",
    "arfit = ar.fit(maxlag=optlag)\n",
    "\n",
    "# we make predictions on unseen data:\n",
    "prediction = arfit.predict(end=len(time_series))[-len(test):]\n",
    "\n",
    "# produce some figures:\n",
    "plt.figure(figsize=(8, 6))\n",
    "plt.plot(time_series.values, '-o', label=\"original data\")\n",
    "plt.plot(prediction, '--o', label='prediction')\n",
    "\n",
    "plt.legend(fontsize=12)\n",
    "\n",
    "print('Out of sample MAE = {0:.3f}'.format(mean_absolute_error(test, prediction)))\n"
   ]
  },
  {
   "cell_type": "markdown",
   "metadata": {},
   "source": [
    "## Cross-Validation for Time Series Forecasting (demo)\n",
    "\n",
    "Recall that it is important not to use future observations during a forecast! Below we will define a function to take a certain number of observations (ordered chronologically) as training data and use the remainder as testing data. We will also visualize their predictions :) \n",
    "\n"
   ]
  },
  {
   "cell_type": "code",
   "execution_count": 4,
   "metadata": {},
   "outputs": [],
   "source": [
    "def Forecasting_crossValidation( time_series, training_size ):\n",
    "    \"\"\"\n",
    "    Given a pd.Series we train a autoregressive model. \n",
    "    The number of training observation is specified by the variable training_size\n",
    "    \"\"\"\n",
    "    train = time_series[:training_size]\n",
    "    test = time_series[training_size:]\n",
    "    ar = tsa.AR(train)\n",
    "    ar_result = ar.fit(maxlag=4)\n",
    "    prediction = ar_result.predict(end=len(time_series))[-len(test):]\n",
    "    \n",
    "    # compute the MAE:\n",
    "    mae = mean_absolute_error(time_series.values[training_size:], prediction)\n",
    "    print('Mean absolute error: ' + str(mae))\n",
    "    \n",
    "    # plot results as well:\n",
    "    plt.plot(time_series.values, '-o', label='true')\n",
    "    plt.plot(range(training_size, len(time_series)), prediction, \n",
    "         '-o', label='out of sample prediction')\n",
    "    plt.legend();\n",
    "    \n",
    "    return prediction\n",
    "    "
   ]
  },
  {
   "cell_type": "code",
   "execution_count": 5,
   "metadata": {},
   "outputs": [
    {
     "name": "stdout",
     "output_type": "stream",
     "text": [
      "Mean absolute error: 0.31891918841013883\n"
     ]
    },
    {
     "name": "stderr",
     "output_type": "stream",
     "text": [
      "/Users/sujay/anaconda3/envs/cspark/lib/python3.6/site-packages/statsmodels/tsa/base/tsa_model.py:225: ValueWarning: A date index has been provided, but it has no associated frequency information and so will be ignored when e.g. forecasting.\n",
      "  ' ignored when e.g. forecasting.', ValueWarning)\n",
      "/Users/sujay/anaconda3/envs/cspark/lib/python3.6/site-packages/statsmodels/tsa/base/tsa_model.py:531: ValueWarning: No supported index is available. Prediction results will be given with an integer index beginning at `start`.\n",
      "  ValueWarning)\n"
     ]
    },
    {
     "data": {
      "text/plain": [
       "44    0.309175\n",
       "45    0.089251\n",
       "46    0.030123\n",
       "47    0.193876\n",
       "dtype: float64"
      ]
     },
     "execution_count": 5,
     "metadata": {},
     "output_type": "execute_result"
    },
    {
     "data": {
      "image/png": "[encoded data removed]",
      "text/plain": [
       "<Figure size 432x288 with 1 Axes>"
      ]
     },
     "metadata": {
      "needs_background": "light"
     },
     "output_type": "display_data"
    }
   ],
   "source": [
    "Forecasting_crossValidation( time_series, 43)"
   ]
  },
  {
   "cell_type": "code",
   "execution_count": 7,
   "metadata": {},
   "outputs": [
    {
     "name": "stderr",
     "output_type": "stream",
     "text": [
      "/Users/sujay/anaconda3/envs/cspark/lib/python3.6/site-packages/statsmodels/tsa/base/tsa_model.py:225: ValueWarning: A date index has been provided, but it has no associated frequency information and so will be ignored when e.g. forecasting.\n",
      "  ' ignored when e.g. forecasting.', ValueWarning)\n",
      "/Users/sujay/anaconda3/envs/cspark/lib/python3.6/site-packages/statsmodels/tsa/base/tsa_model.py:531: ValueWarning: No supported index is available. Prediction results will be given with an integer index beginning at `start`.\n",
      "  ValueWarning)\n"
     ]
    },
    {
     "data": {
      "text/plain": [
       "0.31891918841013883"
      ]
     },
     "execution_count": 7,
     "metadata": {},
     "output_type": "execute_result"
    }
   ],
   "source": [
    "def error_calculator( time_series, training_size ):\n",
    "    \"\"\"\n",
    "    Given a pd.Series we train a autoregressive model. \n",
    "    The number of training observation is specified by the variable training_size\n",
    "    \"\"\"\n",
    "    train = time_series[:training_size]\n",
    "    test = time_series[training_size:]\n",
    "    ar = tsa.AR(train)\n",
    "    ar_result = ar.fit(maxlag=4)\n",
    "    prediction = ar_result.predict(end=len(time_series))[-len(test):]\n",
    "    \n",
    "    # compute the MAE:\n",
    "    mae = mean_absolute_error(time_series.values[training_size:], prediction)\n",
    "    return mae\n",
    "\n",
    "mean=[error_calculator(time_series, i) for i in "
   ]
  },
  {
   "cell_type": "code",
   "execution_count": null,
   "metadata": {},
   "outputs": [],
   "source": []
  },
  {
   "cell_type": "markdown",
   "metadata": {},
   "source": [
    "#### Excercise:\n",
    " - compute the average mean absolute error (MAE) for all possible forecasts (using a minimum of 20 training points). Hint: you may need to change your function to _return_ the MAE, and then loop over all different sizes of training sets :) \n",
    " \n",
    " \n",
    "#### Note:\n",
    "We may notice that the performance AR models isn't very good (at least visually it seems the models do a poor job of predicting future observations. There are many reasons this may be the case, one of them is that the data may be _non-stationary_! Indeed, if you observe a plot of the time-series data, we see there are large jumps present from around the 25th measurement onwards (the variance increases). "
   ]
  }
 ],
 "metadata": {
  "kernelspec": {
   "display_name": "Python 3",
   "language": "python",
   "name": "python3"
  },
  "language_info": {
   "codemirror_mode": {
    "name": "ipython",
    "version": 3
   },
   "file_extension": ".py",
   "mimetype": "text/x-python",
   "name": "python",
   "nbconvert_exporter": "python",
   "pygments_lexer": "ipython3",
   "version": "3.6.7"
  }
 },
 "nbformat": 4,
 "nbformat_minor": 2
}
